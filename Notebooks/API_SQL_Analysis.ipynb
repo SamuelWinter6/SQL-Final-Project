{
 "cells": [
  {
   "cell_type": "code",
   "execution_count": 12,
   "id": "92cc78d1-0753-40d9-a137-90604579b984",
   "metadata": {},
   "outputs": [],
   "source": [
    "# Import modules to make a connection to DB and query\n",
    "import pandas as pd\n",
    "from sqlalchemy import create_engine"
   ]
  },
  {
   "cell_type": "code",
   "execution_count": 37,
   "id": "8baf20b5-e0a6-446d-868e-04203d22bda4",
   "metadata": {},
   "outputs": [],
   "source": [
    "# DB credentials\n",
    "db_username = 'db_username'\n",
    "db_password = 'db_password'\n",
    "db_host = 'db_host'\n",
    "db_port = 'db_port'\n",
    "db_name = 'db_name'"
   ]
  },
  {
   "cell_type": "code",
   "execution_count": 14,
   "id": "bc22a96c-dca4-4df1-8145-37f46272a984",
   "metadata": {},
   "outputs": [],
   "source": [
    "# Create connection with DB credentials\n",
    "engine = create_engine(f'mysql+pymysql://{db_username}:{db_password}@{db_host}:{db_port}/{db_name}')"
   ]
  },
  {
   "cell_type": "markdown",
   "id": "3a5735b0-d17b-4877-9583-6224f75df2d5",
   "metadata": {},
   "source": [
    "# CIS Queries"
   ]
  },
  {
   "cell_type": "markdown",
   "id": "bb0800dc-b14d-4a55-b043-238106e94edc",
   "metadata": {},
   "source": [
    "### Descriptive Query"
   ]
  },
  {
   "cell_type": "markdown",
   "id": "ca0e1453-8cfa-4e86-9242-2e2d430364b4",
   "metadata": {},
   "source": [
    "#### Business Question: How does the average fuel efficiency for Tesla models compare to other brands by car class?"
   ]
  },
  {
   "cell_type": "code",
   "execution_count": 31,
   "id": "aa0921d6-2feb-448a-a5b5-f39a13771882",
   "metadata": {},
   "outputs": [],
   "source": [
    "CIS_BQ_sql_query = \"\"\"\n",
    "WITH Efficiency AS (\n",
    "  SELECT\n",
    "    class,\n",
    "    make,\n",
    "    AVG(city_mpg) AS AvgCityMPG,\n",
    "    AVG(highway_mpg) AS AvgHighwayMPG,\n",
    "    AVG(combination_mpg) AS AvgCombinationMPG\n",
    "  FROM ModelCarSpecs\n",
    "  GROUP BY class, make\n",
    ")\n",
    "SELECT\n",
    "  class,\n",
    "  make,\n",
    "  AVG(AvgCityMPG) AS OverallAvgCityMPG,\n",
    "  AVG(AvgHighwayMPG) AS OverallAvgHighwayMPG,\n",
    "  AVG(AvgCombinationMPG) AS OverallAvgCombinationMPG\n",
    "FROM Efficiency\n",
    "GROUP BY class, make\n",
    "ORDER BY class, make;\n",
    "\"\"\""
   ]
  },
  {
   "cell_type": "code",
   "execution_count": 32,
   "id": "6d1907b4-d497-4f9d-a54e-668f3fd3e652",
   "metadata": {},
   "outputs": [],
   "source": [
    "CIS_BQ_sql_results = pd.read_sql_query(CIS_BQ_sql_query, con=engine)"
   ]
  },
  {
   "cell_type": "code",
   "execution_count": 35,
   "id": "aa1d7bc6-18d7-4ff3-85eb-bad4d9930f94",
   "metadata": {},
   "outputs": [
    {
     "name": "stdout",
     "output_type": "stream",
     "text": [
      "                         class     make  OverallAvgCityMPG  \\\n",
      "0                    large car  hyundai              123.0   \n",
      "1                    large car    tesla               90.2   \n",
      "2                  midsize car    tesla              127.0   \n",
      "3  small sport utility vehicle  hyundai              129.5   \n",
      "4  small sport utility vehicle    tesla              123.6   \n",
      "\n",
      "   OverallAvgHighwayMPG  OverallAvgCombinationMPG  \n",
      "0                  93.0                  107.3333  \n",
      "1                  92.6                   91.2000  \n",
      "2                 116.8                  122.2000  \n",
      "3                  96.0                  112.0000  \n",
      "4                 111.0                  117.8000  \n"
     ]
    }
   ],
   "source": [
    "print(CIS_BQ_sql_results.head())"
   ]
  },
  {
   "cell_type": "code",
   "execution_count": 34,
   "id": "58959c53-bae1-4904-a6e2-4e27373e2adc",
   "metadata": {},
   "outputs": [],
   "source": [
    "CIS_BQ_sql_results.to_csv('CIS_BQ_sql_results.txt', sep='|', index=False)"
   ]
  },
  {
   "cell_type": "markdown",
   "id": "7ed72645-7af4-49fd-a9c5-eb7babead0cd",
   "metadata": {},
   "source": [
    "### Insight:"
   ]
  },
  {
   "cell_type": "markdown",
   "id": "926076e9-a465-4927-a83f-df5ffff58fb0",
   "metadata": {},
   "source": [
    "#### Tesla has models in large Car Classes, has the only Midsize model, and offers small sport utility model. With no offerings in the small station wagon car class. The mgpe for Tesla models seems to lag behind other competitors in certain classes like Large cars. "
   ]
  },
  {
   "cell_type": "markdown",
   "id": "a2122136-5e11-4352-b15b-e13534d638c9",
   "metadata": {},
   "source": [
    "### Recommendation:"
   ]
  },
  {
   "cell_type": "markdown",
   "id": "c247aefc-3d45-4289-a72c-64a546563ba4",
   "metadata": {},
   "source": [
    "#### Revamp Teslas MPGe in large car class to keep up with Hyundais Ioniq 5, as there is a 10 mile gap in average MPGe. Possibly offer a model in the small stationwagon class to increase product offerings. Teslas small sport utility offering already has the highest average MPG compared to competitors."
   ]
  },
  {
   "cell_type": "markdown",
   "id": "ef7f9c2e-8ab8-4af5-9037-b0ad91f5b416",
   "metadata": {},
   "source": [
    "### Prediction:"
   ]
  },
  {
   "cell_type": "markdown",
   "id": "56e075da-a99b-44a0-ab8e-cf3c6085131b",
   "metadata": {},
   "source": [
    "#### Increasing MPG on Tesla models classified as Large Cars would make Teslas model hold the highest average MPGe in the large car class, possibly being more attractive to consumers. Offering a model in the Small Stationwagon class would expand Teslas product offerings reach, applealing to more customers. "
   ]
  },
  {
   "cell_type": "markdown",
   "id": "ec8961ca-d8dc-4584-80fe-e41f60352d64",
   "metadata": {},
   "source": [
    "### Diagnostic Query:"
   ]
  },
  {
   "cell_type": "markdown",
   "id": "c0108c8d-2db4-4d0f-a865-2169026cb3ed",
   "metadata": {},
   "source": [
    "#### Business Question: What class & models yeild the highest average MPG?"
   ]
  },
  {
   "cell_type": "code",
   "execution_count": 27,
   "id": "68ba38b7-b43e-43ea-936d-172f7e4344ce",
   "metadata": {},
   "outputs": [],
   "source": [
    "CIS_DQ_sql_query = \"\"\"\n",
    "WITH Efficiency AS (\n",
    "  SELECT\n",
    "    MCS.class,\n",
    "    MCS.make,\n",
    "    MCS.model,\n",
    "    MCS.ModelID,\n",
    "    MCS.drive,\n",
    "    MCS.transmission,\n",
    "    MCS.fuel_type,\n",
    "    AVG(MCS.combination_mpg) AS AvgCombinationMPG,\n",
    "    DENSE_RANK() OVER (PARTITION BY MCS.class ORDER BY AVG(MCS.combination_mpg) DESC) AS EfficiencyRank\n",
    "  FROM ModelCarSpecs MCS\n",
    "  GROUP BY MCS.class, MCS.make, MCS.model, MCS.drive, MCS.transmission, MCS.fuel_type\n",
    "),\n",
    "CustomerSatisfaction AS (\n",
    "  SELECT\n",
    "    ModelID,\n",
    "    AVG(CAST(overall_rating AS DECIMAL(10,2))) AS AvgSatisfaction -- Ensure that overall_rating is converted to a numeric type for averaging\n",
    "  FROM CustomerReviews\n",
    "  GROUP BY ModelID\n",
    ")\n",
    "SELECT\n",
    "  E.class,\n",
    "  E.make,\n",
    "  E.model,\n",
    "  E.drive,\n",
    "  E.AvgCombinationMPG,\n",
    "  E.EfficiencyRank,\n",
    "  CS.AvgSatisfaction\n",
    "FROM Efficiency E\n",
    "LEFT JOIN CustomerSatisfaction CS ON E.ModelID = CS.ModelID\n",
    "WHERE E.EfficiencyRank IN (1,2,3)\n",
    "ORDER BY E.class, E.AvgCombinationMPG DESC;\n",
    "\"\"\""
   ]
  },
  {
   "cell_type": "code",
   "execution_count": 28,
   "id": "f8fc84cc-0d32-423b-a729-4c074c5a6a56",
   "metadata": {},
   "outputs": [],
   "source": [
    "CIS_DQ_sql_results = pd.read_sql_query(CIS_DQ_sql_query, con=engine)"
   ]
  },
  {
   "cell_type": "code",
   "execution_count": 29,
   "id": "48f8691a-b3de-4835-adf3-9a032109cb40",
   "metadata": {},
   "outputs": [
    {
     "name": "stdout",
     "output_type": "stream",
     "text": [
      "         class     make                         model drive  \\\n",
      "0    large car  hyundai      ioniq 5 rwd (long range)   rwd   \n",
      "1    large car  hyundai  ioniq 5 rwd (standard range)   rwd   \n",
      "2    large car  hyundai      ioniq 5 awd (long range)   awd   \n",
      "3  midsize car    tesla            model 3 long range   rwd   \n",
      "4  midsize car    tesla             model 3 mid range   rwd   \n",
      "\n",
      "   AvgCombinationMPG  EfficiencyRank  AvgSatisfaction  \n",
      "0              114.0               1         4.441176  \n",
      "1              110.0               2         4.441176  \n",
      "2               98.0               3         4.441176  \n",
      "3              128.0               1         4.414141  \n",
      "4              123.0               2         4.414141  \n"
     ]
    }
   ],
   "source": [
    "print(CIS_DQ_sql_results.head())"
   ]
  },
  {
   "cell_type": "code",
   "execution_count": 30,
   "id": "10e7ef55-7da9-4b4c-b749-f2c7d42237c1",
   "metadata": {},
   "outputs": [],
   "source": [
    "CIS_DQ_sql_results.to_csv('CIS_DQ_sql_results.txt', sep='|', index=False)"
   ]
  },
  {
   "cell_type": "markdown",
   "id": "91554e4d-0570-4b44-b998-8b07cacea9a7",
   "metadata": {},
   "source": [
    "### Insight:"
   ]
  },
  {
   "cell_type": "markdown",
   "id": "a3669c95-ff16-43b8-a44e-89060c810b54",
   "metadata": {},
   "source": [
    "#### Teslas model S offering in the large car class did not make the top 3 ranking for most efficent per class, as Hyundais Ioniq 5 models have higher average MPGe. Some Tesla models hold the number 1 ranking in highest average MPGe like the Model 3 Long Range for Midsize car class and Model Y Long Range awd for Small Sport Utility Vehicle class. Models with fwd and rwd seem to have higher average MPGe. "
   ]
  },
  {
   "cell_type": "markdown",
   "id": "fdd60e8d-ad74-4cd8-a191-8faf2ea19db2",
   "metadata": {},
   "source": [
    "### Recommendation:"
   ]
  },
  {
   "cell_type": "markdown",
   "id": "b2d6e009-706c-41f5-b2f1-e0f9e4c79f95",
   "metadata": {},
   "source": [
    "#### Increase MPGe in Tesla models in Large Car class to better compete with other manufacturers like Hyundai."
   ]
  },
  {
   "cell_type": "markdown",
   "id": "6de71bc3-8b8b-4665-b03b-8d2bc8a1e1d0",
   "metadata": {},
   "source": [
    "### Prediction:"
   ]
  },
  {
   "cell_type": "markdown",
   "id": "341a45e4-064c-4d70-851e-d851fa7c5cdf",
   "metadata": {},
   "source": [
    "#### By having a more competitive models with on par or higher average MPG, this would increase the attractiveness of Tesla's product offerings in Large Car class leading to more sales."
   ]
  },
  {
   "cell_type": "markdown",
   "id": "156f831b-d3fc-4ec5-a43a-3c1645903150",
   "metadata": {},
   "source": [
    "# NHTSA Queries"
   ]
  },
  {
   "cell_type": "markdown",
   "id": "7e00b35e-9410-4d9f-9256-2e86d064d8e7",
   "metadata": {},
   "source": [
    "### Descriptive Query:"
   ]
  },
  {
   "cell_type": "markdown",
   "id": "d893a432-5faf-4d63-8c31-90ecbef32c93",
   "metadata": {},
   "source": [
    "#### Business Question: What are the overall incident counts for each car make, highlighting potential differences in reliability or maintenance issues?"
   ]
  },
  {
   "cell_type": "code",
   "execution_count": 15,
   "id": "7cdb3967-a98d-4f0b-ae87-469a78bf9372",
   "metadata": {},
   "outputs": [],
   "source": [
    "NHTSA_BQ_sql_query = \"\"\"\n",
    "WITH IssueCounts AS (\n",
    "  SELECT\n",
    "    ProductMake,\n",
    "    ProductModel,\n",
    "    Component,\n",
    "    COUNT(*) AS IssueCount,\n",
    "    RANK() OVER (PARTITION BY ProductModel ORDER BY COUNT(*) DESC) AS IssueRank\n",
    "  FROM MaintenanceInfo\n",
    "  GROUP BY ProductMake, ProductModel, Component\n",
    ")\n",
    "SELECT\n",
    "  ProductMake,\n",
    "  ProductModel,\n",
    "  Component,\n",
    "  IssueCount\n",
    "FROM IssueCounts\n",
    "WHERE IssueRank = 1;\n",
    "\"\"\""
   ]
  },
  {
   "cell_type": "code",
   "execution_count": 16,
   "id": "0aecaedc-8c43-47e8-9a31-438afdd4fbb2",
   "metadata": {},
   "outputs": [],
   "source": [
    "NHTSA_BQ_sql_results = pd.read_sql_query(NHTSA_BQ_sql_query, con=engine)"
   ]
  },
  {
   "cell_type": "code",
   "execution_count": 17,
   "id": "eb9f42ca-1ff1-4033-8862-c72cfc17d8b0",
   "metadata": {},
   "outputs": [
    {
     "name": "stdout",
     "output_type": "stream",
     "text": [
      "  ProductMake ProductModel                                   Component  \\\n",
      "0   CHEVROLET      BOLT EV                           EXTERIOR LIGHTING   \n",
      "1  VOLKSWAGEN         ID.4                            UNKNOWN OR OTHER   \n",
      "2     HYUNDAI      IONIQ 5                           ELECTRICAL SYSTEM   \n",
      "3       TESLA      MODEL 3  FORWARD COLLISION AVOIDANCE,LANE DEPARTURE   \n",
      "4       TESLA      MODEL 3                 FORWARD COLLISION AVOIDANCE   \n",
      "\n",
      "   IssueCount  \n",
      "0           4  \n",
      "1          11  \n",
      "2          77  \n",
      "3           2  \n",
      "4           2  \n"
     ]
    }
   ],
   "source": [
    "print(NHTSA_BQ_sql_results.head())"
   ]
  },
  {
   "cell_type": "code",
   "execution_count": 11,
   "id": "9348071c-cfb5-46ae-83ad-14a1e53fa532",
   "metadata": {},
   "outputs": [],
   "source": [
    "NHTSA_BQ_sql_results.to_csv('NHTSA_BQ_sql_results.txt', sep='|', index=False)"
   ]
  },
  {
   "cell_type": "markdown",
   "id": "439f7c21-3c6b-4b9a-b34f-fcb86c2f003b",
   "metadata": {},
   "source": [
    "### Insight:"
   ]
  },
  {
   "cell_type": "markdown",
   "id": "24d47970-61f6-4594-a897-723ed8e58fbb",
   "metadata": {},
   "source": [
    "#### The most common component issues between all three Tesla models of this dataset were, for the Tesla Model 3 having a tie of two common issues being; Forward Collision Avoidance, Land departure and Forward Collision Avoidance. The Model S had the most common component issue of Electrical System, and the Model Y had the most common issue of Forward Collision Avoidance. "
   ]
  },
  {
   "cell_type": "markdown",
   "id": "d2eb6aab-4248-43fa-8eed-05f27f6d6a25",
   "metadata": {},
   "source": [
    "### Recommendation:"
   ]
  },
  {
   "cell_type": "markdown",
   "id": "a59515fc-8512-4a01-873a-953569c27c9f",
   "metadata": {},
   "source": [
    "#### Evaluate systems and related product engineering aspects related to Forward collision avoidance to better streamline the saftey of the model as it seems like a common issue for specifcaly the Model Y."
   ]
  },
  {
   "cell_type": "markdown",
   "id": "8178cddb-2957-4fb9-ba38-9a4fda1d9ba8",
   "metadata": {},
   "source": [
    "### Prediction:"
   ]
  },
  {
   "cell_type": "markdown",
   "id": "8d5d236b-4767-4f1c-ab72-e05adcfd207f",
   "metadata": {},
   "source": [
    "#### By implementing redundancy and safety measures within specifically the Model Y, this would increase the attractiveness of models to customers."
   ]
  },
  {
   "cell_type": "markdown",
   "id": "1eddb243-dc7a-4e01-97ea-4c23792b5d05",
   "metadata": {},
   "source": [
    "### Diagnostic Query:"
   ]
  },
  {
   "cell_type": "markdown",
   "id": "bb20553b-d7b8-4060-a154-818dd635d289",
   "metadata": {},
   "source": [
    "#### Business Question: How do maintenance issue frequencies for Tesla models compare to their competitors, and what are the specific common issues for each category of cars?"
   ]
  },
  {
   "cell_type": "code",
   "execution_count": 18,
   "id": "d04c50c1-229c-4b6a-9800-6ce3fec4b430",
   "metadata": {},
   "outputs": [],
   "source": [
    "NHTSA_DQ_sql_query = \"\"\"\n",
    "SELECT\n",
    "    IncidentYear,\n",
    "    ProductModel,\n",
    "    Component,\n",
    "    UniqueIssueCount,\n",
    "    AvgCityMPG,\n",
    "    AvgHighwayMPG,\n",
    "    IncidentRank\n",
    "FROM (\n",
    "    SELECT\n",
    "        YEAR(mi.IncidentDate) AS IncidentYear,\n",
    "        mym.BaseModel AS ProductModel,\n",
    "        mi.Component,\n",
    "        COUNT(DISTINCT mi.ODINumber) AS UniqueIssueCount,\n",
    "        AVG(mcs.city_mpg) AS AvgCityMPG,\n",
    "        AVG(mcs.highway_mpg) AS AvgHighwayMPG,\n",
    "        ROW_NUMBER() OVER (\n",
    "            PARTITION BY YEAR(mi.IncidentDate), mym.BaseModel\n",
    "            ORDER BY COUNT(DISTINCT mi.ODINumber) DESC\n",
    "        ) AS IncidentRank\n",
    "    FROM \n",
    "        MaintenanceInfo mi\n",
    "    INNER JOIN \n",
    "        ModelYearMapping mym ON mi.ProductModel = mym.BaseModel\n",
    "    LEFT JOIN \n",
    "        ModelCarSpecs mcs ON mym.SpecificModel = mcs.model AND mym.ModelYear = mcs.Year\n",
    "    GROUP BY \n",
    "        YEAR(mi.IncidentDate),\n",
    "        mym.BaseModel,\n",
    "        mi.Component\n",
    ") RankedIncidents\n",
    "WHERE \n",
    "    IncidentRank = 1\n",
    "ORDER BY \n",
    "    IncidentYear DESC,\n",
    "    UniqueIssueCount DESC;\n",
    "\"\"\""
   ]
  },
  {
   "cell_type": "code",
   "execution_count": 19,
   "id": "dd89156d-8e62-43a5-9b3f-5ed57bc1a1af",
   "metadata": {},
   "outputs": [],
   "source": [
    "NHTSA_DQ_sql_results = pd.read_sql_query(NHTSA_DQ_sql_query, con=engine)"
   ]
  },
  {
   "cell_type": "code",
   "execution_count": 20,
   "id": "faa880d0-41fc-46e8-8082-a8f82bedeba9",
   "metadata": {},
   "outputs": [
    {
     "name": "stdout",
     "output_type": "stream",
     "text": [
      "   IncidentYear ProductModel          Component  UniqueIssueCount  AvgCityMPG  \\\n",
      "0          2024      Ioniq 5  ELECTRICAL SYSTEM                 9       125.6   \n",
      "1          2024      Model Y   UNKNOWN OR OTHER                 2       123.6   \n",
      "2          2024         ID.4  ELECTRICAL SYSTEM                 1       103.0   \n",
      "3          2024      Bolt EV   UNKNOWN OR OTHER                 1       127.6   \n",
      "4          2023      Ioniq 5  ELECTRICAL SYSTEM                61       125.6   \n",
      "\n",
      "   AvgHighwayMPG  IncidentRank  \n",
      "0           94.2             1  \n",
      "1          111.0             1  \n",
      "2           89.4             1  \n",
      "3          109.2             1  \n",
      "4           94.2             1  \n"
     ]
    }
   ],
   "source": [
    "print(NHTSA_DQ_sql_results.head())"
   ]
  },
  {
   "cell_type": "code",
   "execution_count": 21,
   "id": "9866088b-d42f-47cc-a798-71298ab39f62",
   "metadata": {},
   "outputs": [],
   "source": [
    "NHTSA_DQ_sql_results.to_csv('NHTSA_DQ_sql_results.txt', sep='|', index=False)"
   ]
  },
  {
   "cell_type": "code",
   "execution_count": 22,
   "id": "851c45d6-4fbc-4ef7-8e26-5441655a0be3",
   "metadata": {},
   "outputs": [],
   "source": [
    "engine.dispose()"
   ]
  },
  {
   "cell_type": "markdown",
   "id": "6f066396-32c0-4a7d-8c93-feed7fca0ab1",
   "metadata": {},
   "source": [
    "### Insight:"
   ]
  },
  {
   "cell_type": "markdown",
   "id": "5c1acdc2-6ca7-42e9-8dbc-074e5a046623",
   "metadata": {},
   "source": [
    "#### In the year 2022 the Model Y experienced a spike in issue complaints about Forward Collision Avoidance, showing a decrease in issues complaints in the next year 2023. Followed by no complaints in the year 2024. In the year 2020 the Model S experienced a spike in issue complaints relating to Electrical Systems Component with following years showing very little to none complaints related to Electrical systems. These issues compared to the number of issues from competitors are relatively below the upper bound."
   ]
  },
  {
   "cell_type": "markdown",
   "id": "afaf3c90-f55b-4c59-a94f-be4ff09ef17f",
   "metadata": {},
   "source": [
    "### Recommendation:"
   ]
  },
  {
   "cell_type": "markdown",
   "id": "ec54b2f8-bdc1-4214-b4b8-2ac0fccdf3ac",
   "metadata": {},
   "source": [
    "#### Diagnose and source issues related to Forward Collision Avoidance, as it's a common issue between the Tesla model Y & 3. Despite marginal improvement in the decrease of issues related to Forward Collistion Avoidance in recent years."
   ]
  },
  {
   "cell_type": "markdown",
   "id": "eaef59f9-a367-42e8-a1e7-7bab22422a59",
   "metadata": {},
   "source": [
    "### Prediction:"
   ]
  },
  {
   "cell_type": "markdown",
   "id": "360dc60b-51c1-495b-8717-d32e9459a3e6",
   "metadata": {},
   "source": [
    "#### By refining product components, models will be viewed as a more attractive compared alternative competitor models experiencing more issues."
   ]
  }
 ],
 "metadata": {
  "kernelspec": {
   "display_name": "Python 3 (ipykernel)",
   "language": "python",
   "name": "python3"
  },
  "language_info": {
   "codemirror_mode": {
    "name": "ipython",
    "version": 3
   },
   "file_extension": ".py",
   "mimetype": "text/x-python",
   "name": "python",
   "nbconvert_exporter": "python",
   "pygments_lexer": "ipython3",
   "version": "3.11.7"
  }
 },
 "nbformat": 4,
 "nbformat_minor": 5
}
