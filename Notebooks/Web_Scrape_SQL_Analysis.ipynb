{
 "cells": [
  {
   "cell_type": "code",
   "execution_count": 3,
   "id": "c9aa3312-7f00-48fc-a58c-02d70b68d01d",
   "metadata": {},
   "outputs": [],
   "source": [
    "# Import modules to make a connection to DB and query\n",
    "import pandas as pd\n",
    "from sqlalchemy import create_engine"
   ]
  },
  {
   "cell_type": "code",
   "execution_count": 11,
   "id": "ea366494-c0fe-41f6-9838-599b0e5e0958",
   "metadata": {},
   "outputs": [],
   "source": [
    "# DB credentials\n",
    "db_username = 'db_username'\n",
    "db_password = 'db_password'\n",
    "db_host = 'db_host'\n",
    "db_port = 'db_port'\n",
    "db_name = 'db_name'"
   ]
  },
  {
   "cell_type": "code",
   "execution_count": 5,
   "id": "d0cacd9f-16b5-4b8b-8272-b6ac07e9b2c0",
   "metadata": {},
   "outputs": [],
   "source": [
    "# Create connection with DB credentials\n",
    "engine = create_engine(f'mysql+pymysql://{db_username}:{db_password}@{db_host}:{db_port}/{db_name}')"
   ]
  },
  {
   "cell_type": "markdown",
   "id": "0f03fb11-d89a-4d88-a2bf-1eda969a30b4",
   "metadata": {},
   "source": [
    "# Customer Reviews Table Queries"
   ]
  },
  {
   "cell_type": "markdown",
   "id": "cc436cdd-38db-42a3-ad81-80270e51a9db",
   "metadata": {},
   "source": [
    "### Descriptive Query:"
   ]
  },
  {
   "cell_type": "markdown",
   "id": "5daf4aaa-2f61-4383-a47b-c5cd4151fc53",
   "metadata": {},
   "source": [
    "#### Business Question: What is the average overall customer satisfaction ratings for each car model?"
   ]
  },
  {
   "cell_type": "code",
   "execution_count": 5,
   "id": "4b3b3cf8-25f5-40df-87ab-ee0c04001c05",
   "metadata": {},
   "outputs": [],
   "source": [
    "Cust_Reviews_BQ_sql_query = \"\"\"\n",
    "SELECT \n",
    "    YEAR(date_posted) AS year,\n",
    "    CarModel,\n",
    "    AVG(overall_rating) AS avg_overall_rating,\n",
    "    AVG(AVG(overall_rating)) OVER (PARTITION BY CarModel ORDER BY YEAR(date_posted)) AS running_avg_overall_rating\n",
    "FROM \n",
    "    CustomerReviews\n",
    "GROUP BY \n",
    "    year, CarModel\n",
    "ORDER BY \n",
    "    CarModel, year;\n",
    "\"\"\""
   ]
  },
  {
   "cell_type": "code",
   "execution_count": 6,
   "id": "e2801dfc-0fc7-415c-b754-4d4023e814cc",
   "metadata": {},
   "outputs": [],
   "source": [
    "Cust_Reviews_BQ_sql_results = pd.read_sql_query(Cust_Reviews_BQ_sql_query, con=engine)"
   ]
  },
  {
   "cell_type": "code",
   "execution_count": 7,
   "id": "fe6c5d41-bb71-4df3-86ca-250d5c674c63",
   "metadata": {},
   "outputs": [
    {
     "name": "stdout",
     "output_type": "stream",
     "text": [
      "   year             CarModel  avg_overall_rating  running_avg_overall_rating\n",
      "0  2021    Chevrolet Bolt EV            5.000000                    5.000000\n",
      "1  2022    Chevrolet Bolt EV            4.000000                    4.500000\n",
      "2  2023    Chevrolet Bolt EV            4.562500                    4.520833\n",
      "3  2024    Chevrolet Bolt EV            3.875000                    4.359375\n",
      "4  2022  Ford Mustang Mach-E            4.217391                    4.217391\n"
     ]
    }
   ],
   "source": [
    "print(Cust_Reviews_BQ_sql_results.head())"
   ]
  },
  {
   "cell_type": "code",
   "execution_count": 20,
   "id": "9f25fd99-ee55-4ff1-ada9-e376378f2191",
   "metadata": {},
   "outputs": [],
   "source": [
    "Cust_Reviews_BQ_sql_results.to_csv('Cust_Reviews_BQ_sql_results.txt', sep='|', index=False)"
   ]
  },
  {
   "attachments": {},
   "cell_type": "markdown",
   "id": "f830ca96-1b33-422b-be70-b734b7b276b3",
   "metadata": {},
   "source": [
    "### Insight:"
   ]
  },
  {
   "cell_type": "markdown",
   "id": "15f5aa69-3211-4434-bffa-e482e19b461e",
   "metadata": {},
   "source": [
    "#### Number of customer reviews vary from year to year, so ratings can flucuate dramatically. Descpite this Tesla Model Y has an inital overall rating of 5 in 2020 which then decreases to 4.23 in 2024. Model S increases from 3.38 in 2020 to 3.79 in 2024. The Model 3 has an overall rating of 1 due to one customer review in 2020, then increases to 3.48 in 2023. Realtive to compeitor models Tesla ratings fall short, expeically for the Model 3 and S."
   ]
  },
  {
   "cell_type": "markdown",
   "id": "4831bc23-1183-47ef-85d3-66e740f416bf",
   "metadata": {},
   "source": [
    "### Recommendation:"
   ]
  },
  {
   "cell_type": "markdown",
   "id": "5b0aecaf-a99e-40c3-8128-8a1f85029888",
   "metadata": {},
   "source": [
    "#### Investigate the car attributes that customers are complaining about."
   ]
  },
  {
   "cell_type": "markdown",
   "id": "e275b1f4-75f1-451d-9f08-00ed0aca9855",
   "metadata": {},
   "source": [
    "### Prediction:"
   ]
  },
  {
   "cell_type": "markdown",
   "id": "68a6495e-bc66-4af4-b351-5760de503f31",
   "metadata": {},
   "source": [
    "#### Improve on said attribute to increase customer satisfaction."
   ]
  },
  {
   "cell_type": "markdown",
   "id": "afd243da-5041-4262-aa0e-6782f80f7c40",
   "metadata": {},
   "source": [
    "### Diagnostic Query:"
   ]
  },
  {
   "cell_type": "markdown",
   "id": "e01da034-24d5-4feb-b8e6-5e38df0e8600",
   "metadata": {},
   "source": [
    "#### Business Question: How do customer satisfaction aspects (comfort, performance, reliability) trend over time for each car model, and which models show the greatest improvement or decline?"
   ]
  },
  {
   "cell_type": "code",
   "execution_count": 6,
   "id": "8d5dd7cf-2633-4ba3-8d31-5ea8369fc035",
   "metadata": {},
   "outputs": [],
   "source": [
    "Cust_Reviews_DQ_sql_query = \"\"\"\n",
    "WITH YearlyRatings AS (\n",
    "  SELECT\n",
    "    CarModel,\n",
    "    YEAR(date_posted) AS Year,\n",
    "    AVG(overall_rating) AS AvgOverallRating,\n",
    "    AVG(comfort) AS AvgComfort,\n",
    "    AVG(performance) AS AvgPerformance,\n",
    "    AVG(value) AS AvgValue,\n",
    "    AVG(reliability) AS AvgReliability,\n",
    "    AVG(interior) AS AvgInterior\n",
    "  FROM CustomerReviews\n",
    "  GROUP BY CarModel, YEAR(date_posted)\n",
    "),\n",
    "YearlyChanges AS (\n",
    "  SELECT\n",
    "    Current.Year,\n",
    "    Current.CarModel,\n",
    "    Current.AvgOverallRating,\n",
    "    Current.AvgComfort,\n",
    "    Current.AvgPerformance,\n",
    "    Current.AvgValue,\n",
    "    Current.AvgReliability,\n",
    "    Current.AvgInterior,\n",
    "    Current.AvgOverallRating - COALESCE(Previous.AvgOverallRating, Current.AvgOverallRating) AS OverallRatingChange,\n",
    "    Current.AvgComfort - COALESCE(Previous.AvgComfort, Current.AvgComfort) AS ComfortChange,\n",
    "    Current.AvgPerformance - COALESCE(Previous.AvgPerformance, Current.AvgPerformance) AS PerformanceChange,\n",
    "    Current.AvgValue - COALESCE(Previous.AvgValue, Current.AvgValue) AS ValueChange,\n",
    "    Current.AvgReliability - COALESCE(Previous.AvgReliability, Current.AvgReliability) AS ReliabilityChange,\n",
    "    Current.AvgInterior - COALESCE(Previous.AvgInterior, Current.AvgInterior) AS InteriorChange\n",
    "  FROM YearlyRatings Current\n",
    "  LEFT JOIN YearlyRatings Previous ON Current.CarModel = Previous.CarModel AND Current.Year = Previous.Year + 1\n",
    ")\n",
    "SELECT *\n",
    "FROM YearlyChanges\n",
    "ORDER BY CarModel, Year;\n",
    "\"\"\""
   ]
  },
  {
   "cell_type": "code",
   "execution_count": 7,
   "id": "ef206b59-6f66-46bd-9312-d6f9bec67a84",
   "metadata": {},
   "outputs": [],
   "source": [
    "Cust_Reviews_DQ_sql_results = pd.read_sql_query(Cust_Reviews_DQ_sql_query, con=engine)"
   ]
  },
  {
   "cell_type": "code",
   "execution_count": 8,
   "id": "c6e751bb-78cd-40af-9727-062765590f9e",
   "metadata": {},
   "outputs": [
    {
     "name": "stdout",
     "output_type": "stream",
     "text": [
      "   Year             CarModel  AvgOverallRating  AvgComfort  AvgPerformance  \\\n",
      "0  2021    Chevrolet Bolt EV          5.000000    3.875000        4.375000   \n",
      "1  2022    Chevrolet Bolt EV          4.000000    4.200000        4.100000   \n",
      "2  2023    Chevrolet Bolt EV          4.562500    4.250000        4.500000   \n",
      "3  2024    Chevrolet Bolt EV          3.875000    3.625000        3.375000   \n",
      "4  2022  Ford Mustang Mach-E          4.217391    3.391304        3.521739   \n",
      "\n",
      "   AvgValue  AvgReliability  AvgInterior  OverallRatingChange  ComfortChange  \\\n",
      "0  4.125000        4.375000     3.875000               0.0000          0.000   \n",
      "1  4.100000        3.700000     4.300000              -1.0000          0.325   \n",
      "2  4.250000        4.000000     4.250000               0.5625          0.050   \n",
      "3  3.500000        3.125000     3.750000              -0.6875         -0.625   \n",
      "4  3.086957        2.869565     3.391304               0.0000          0.000   \n",
      "\n",
      "   PerformanceChange  ValueChange  ReliabilityChange  InteriorChange  \n",
      "0              0.000        0.000              0.000           0.000  \n",
      "1             -0.275       -0.025             -0.675           0.425  \n",
      "2              0.400        0.150              0.300          -0.050  \n",
      "3             -1.125       -0.750             -0.875          -0.500  \n",
      "4              0.000        0.000              0.000           0.000  \n"
     ]
    }
   ],
   "source": [
    "print(Cust_Reviews_DQ_sql_results.head())"
   ]
  },
  {
   "cell_type": "code",
   "execution_count": 9,
   "id": "e6510420-6002-4ba1-b3ee-5b9915069e93",
   "metadata": {},
   "outputs": [],
   "source": [
    "Cust_Reviews_DQ_sql_results.to_csv('Cust_Reviews_DQ_sql_results.txt', sep='|', index=False)"
   ]
  },
  {
   "cell_type": "code",
   "execution_count": 10,
   "id": "82d9279c-57c7-430e-8d09-754a530136fd",
   "metadata": {},
   "outputs": [],
   "source": [
    "engine.dispose()"
   ]
  },
  {
   "cell_type": "markdown",
   "id": "5cfe41f2-f13a-4108-8334-86bd551ba02a",
   "metadata": {},
   "source": [
    "### Insight:"
   ]
  },
  {
   "cell_type": "markdown",
   "id": "c86ee8c6-fa6c-4f49-9eb4-21ae2c4e624f",
   "metadata": {},
   "source": [
    "#### Tesla Model 3 appears to initially have negative change in ratings in comfort and performance in the year 2021 and 2022 but then sees almost 1 point improvements in all attributes in the year 2023. The Model S appears to initially have improvements in ratings changes across all attributes in the year 2021 with a little over than half point decreases in the year 2022 followed by 1 point plus rating changes in the year 2023. With only one review in 2024 being severily negative. For the model Y in 2021 there was a 1.5 decrease in reliabilty rating followed by marginal decreases in every rating attribute in 2022, with increases in comfort, performance, and value, and decreases in reliability and interiror in the year 2023."
   ]
  },
  {
   "cell_type": "markdown",
   "id": "dd3505e5-6d6d-43c1-abf2-eecb56d7a6b4",
   "metadata": {},
   "source": [
    "### Recommendation:"
   ]
  },
  {
   "cell_type": "markdown",
   "id": "2c956361-9b08-41f8-b208-126b01501da4",
   "metadata": {},
   "source": [
    "#### Improve performance and comfort for Model S and 3, as customers reviews reflect a decrease or stadic change in ratings for these attributes."
   ]
  },
  {
   "cell_type": "markdown",
   "id": "ca85d629-e5aa-4b70-a306-2766509997a1",
   "metadata": {},
   "source": [
    "### Prediction:"
   ]
  },
  {
   "cell_type": "markdown",
   "id": "218dc536-7d21-4b23-a221-ec7f39cce237",
   "metadata": {},
   "source": [
    "#### Improvement in these attributes of Tesla Models would increase average overall customer satsicafction and lead to increased customer loyalty."
   ]
  }
 ],
 "metadata": {
  "kernelspec": {
   "display_name": "Python 3 (ipykernel)",
   "language": "python",
   "name": "python3"
  },
  "language_info": {
   "codemirror_mode": {
    "name": "ipython",
    "version": 3
   },
   "file_extension": ".py",
   "mimetype": "text/x-python",
   "name": "python",
   "nbconvert_exporter": "python",
   "pygments_lexer": "ipython3",
   "version": "3.11.7"
  }
 },
 "nbformat": 4,
 "nbformat_minor": 5
}
